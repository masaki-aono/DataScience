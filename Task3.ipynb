{
 "cells": [
  {
   "cell_type": "markdown",
   "metadata": {},
   "source": [
    "## 多層パーセプトロン(MLP)による多ラベル（非排他）分類"
   ]
  },
  {
   "cell_type": "code",
   "execution_count": 1,
   "metadata": {
    "scrolled": false
   },
   "outputs": [
    {
     "name": "stdout",
     "output_type": "stream",
     "text": [
      "10700 記事総数\n",
      "7713 訓練データ\n",
      "2987 テストデータ\n",
      "55  カテゴリー\n",
      "['acq', 'alum', 'barley', 'bop', 'carcass', 'cocoa', 'coffee', 'copper', 'corn', 'cotton', 'cpi', 'crude', 'dlr', 'earn', 'fuel', 'gas', 'gnp', 'gold', 'grain', 'hog', 'housing', 'interest', 'ipi', 'iron-steel', 'jobs', 'lead', 'livestock', 'meal-feed', 'money-fx', 'money-supply', 'nat-gas', 'oilseed', 'orange', 'palm-oil', 'pet-chem', 'rapeseed', 'reserves', 'retail', 'rice', 'rubber', 'ship', 'silver', 'sorghum', 'soy-meal', 'soy-oil', 'soybean', 'strategic-metal', 'sugar', 'tin', 'trade', 'veg-oil', 'wheat', 'wpi', 'yen', 'zinc']\n"
     ]
    }
   ],
   "source": [
    "from nltk.corpus.util import LazyCorpusLoader\n",
    "from nltk.corpus.reader import *\n",
    "\n",
    "# コーパスのロード\n",
    "ma_reuters = LazyCorpusLoader(\n",
    "    'ma_reuters', CategorizedPlaintextCorpusReader, '(training|test).*',\n",
    "    cat_file='cats.txt', encoding='ISO-8859-2')\n",
    "\n",
    "# MA_Reutersのロード\n",
    "documents = ma_reuters.fileids()\n",
    "print (str(len(documents)) + \" 記事総数\")\n",
    "# 訓練とテストデータの文書IDの抽出\n",
    "train_docs_id = list(filter(lambda doc: doc.startswith(\"train\"), documents))\n",
    "test_docs_id = list(filter(lambda doc: doc.startswith(\"test\"), documents))\n",
    "print (str(len(train_docs_id)) + \" 訓練データ\")\n",
    "print (str(len(test_docs_id)) + \" テストデータ\")\n",
    "# 訓練とテストデータの生データの抽出\n",
    "train_docs = [ma_reuters.raw(doc_id) for doc_id in train_docs_id]\n",
    "test_docs = [ma_reuters.raw(doc_id) for doc_id in test_docs_id]\n",
    " \n",
    "# カテゴリーのリスト\n",
    "categories = ma_reuters.categories()\n",
    "num_categories = len(categories)\n",
    "print (num_categories, \" カテゴリー\")\n",
    "print (categories)"
   ]
  },
  {
   "cell_type": "markdown",
   "metadata": {},
   "source": [
    "## TF-IDF重みによるベクトル化"
   ]
  },
  {
   "cell_type": "code",
   "execution_count": 12,
   "metadata": {},
   "outputs": [
    {
     "name": "stdout",
     "output_type": "stream",
     "text": [
      "TF-IDFモデルに変換しました\n",
      "訓練データの文書数x次元数： (7713, 26979)\n",
      "テストデータの文書数x次元数： (2987, 26979)\n"
     ]
    }
   ],
   "source": [
    "from nltk import word_tokenize\n",
    "import re\n",
    " \n",
    "def tokenize(text): # テキストをトークンに変換してリストで返す関数\n",
    "    min_length = 3\n",
    "    words = map(lambda word: word.lower(), word_tokenize(text))\n",
    "\n",
    "    p = re.compile('[a-zA-Z]+')\n",
    "    filtered_tokens = list(filter (lambda token: p.match(token) and len(token) >= min_length, words))\n",
    "    return filtered_tokens\n",
    "\n",
    "from sklearn.feature_extraction.text import TfidfVectorizer\n",
    "\n",
    "# TF-IDF重みでベクトル化\n",
    "vectorizer = TfidfVectorizer(stop_words='english', tokenizer=tokenize)\n",
    "# 訓練データはfit_transform関数で決められた語彙に基づきTF-IDFを計算\n",
    "vectorised_train_documents = vectorizer.fit_transform(train_docs)\n",
    "# テストデータはtransform関数で決められた語彙に基づきTF-IDFを計算\n",
    "vectorised_test_documents = vectorizer.transform(test_docs)\n",
    "print(\"TF-IDFモデルに変換しました\")\n",
    "print(\"訓練データの文書数x次元数：\",vectorised_train_documents.shape)\n",
    "print(\"テストデータの文書数x次元数：\",vectorised_test_documents.shape)"
   ]
  },
  {
   "cell_type": "markdown",
   "metadata": {},
   "source": [
    "## Kerasの設定"
   ]
  },
  {
   "cell_type": "code",
   "execution_count": 4,
   "metadata": {},
   "outputs": [],
   "source": [
    "import warnings\n",
    "warnings.simplefilter(action='ignore', category=FutureWarning)\n",
    "\n",
    "import tensorflow as tf\n",
    "config = tf.compat.v1.ConfigProto()\n",
    "config.gpu_options.per_process_gpu_memory_fraction = 0.3  \n",
    "config.gpu_options.allow_growth = True\n",
    "session = tf.compat.v1.Session(config=config)\n",
    "\n",
    "# Kerasの定義\n",
    "import keras\n",
    "from tensorflow.compat.v1.keras import backend as K\n",
    "K.set_session(session) "
   ]
  },
  {
   "cell_type": "markdown",
   "metadata": {},
   "source": [
    "## NNのモデル作成"
   ]
  },
  {
   "cell_type": "code",
   "execution_count": 22,
   "metadata": {
    "scrolled": true
   },
   "outputs": [
    {
     "name": "stdout",
     "output_type": "stream",
     "text": [
      "Model: \"functional_11\"\n",
      "_________________________________________________________________\n",
      "Layer (type)                 Output Shape              Param #   \n",
      "=================================================================\n",
      "input_6 (InputLayer)         [(None, 26979)]           0         \n",
      "_________________________________________________________________\n",
      "dense_15 (Dense)             (None, 512)               13813760  \n",
      "_________________________________________________________________\n",
      "dropout_10 (Dropout)         (None, 512)               0         \n",
      "_________________________________________________________________\n",
      "dense_16 (Dense)             (None, 512)               262656    \n",
      "_________________________________________________________________\n",
      "dropout_11 (Dropout)         (None, 512)               0         \n",
      "_________________________________________________________________\n",
      "dense_17 (Dense)             (None, 55)                28215     \n",
      "=================================================================\n",
      "Total params: 14,104,631\n",
      "Trainable params: 14,104,631\n",
      "Non-trainable params: 0\n",
      "_________________________________________________________________\n"
     ]
    }
   ],
   "source": [
    "from keras.models import Model \n",
    "from keras.layers import Input, Dense, Dropout \n",
    "from keras.optimizers import RMSprop \n",
    "BoW_dimension = vectorised_train_documents.shape[1]\n",
    "NUM_CLASSES = 55 # カテゴリー数\n",
    "\n",
    "inputs = Input(shape=(BoW_dimension,)) # 入力データ1個はBoW次元が何個か\n",
    "x = Dense(512, activation='elu')(inputs) # 第一全結合層の出力は512次元\n",
    "x = Dropout(0.3)(x) # ドロップアウトは40%（過学習の回避）\n",
    "x = Dense(512, activation='elu')(x) # 第一全結合層の出力は512次元\n",
    "x = Dropout(0.3)(x) # ドロップアウトは40%（過学習の回避）\n",
    "outputs = Dense(NUM_CLASSES, activation='sigmoid')(x) # 最終層の出力は10値\n",
    "model = Model(inputs=[inputs], outputs=[outputs]) # モデル生成\n",
    "\n",
    "model.summary() # ニューラルネットのパラメータ概要表示\n",
    "\n",
    "model.compile( # モデルのコンパイル\n",
    "    loss='binary_crossentropy', # 多ラベルであるため、損失関数はバイナリクロスエントロピーが良い\n",
    "    optimizer='adam', # 最適化関数はAdam\n",
    "    metrics=['categorical_accuracy']) # 測定はcategorical_accuracy（正解率）"
   ]
  },
  {
   "cell_type": "markdown",
   "metadata": {},
   "source": [
    "## 学習"
   ]
  },
  {
   "cell_type": "code",
   "execution_count": 23,
   "metadata": {
    "scrolled": false
   },
   "outputs": [
    {
     "name": "stdout",
     "output_type": "stream",
     "text": [
      "Epoch 1/40\n",
      "61/61 [==============================] - 3s 43ms/step - loss: 0.1841 - categorical_accuracy: 0.3081 - val_loss: 0.0685 - val_categorical_accuracy: 0.3656\n",
      "Epoch 2/40\n",
      "61/61 [==============================] - 2s 40ms/step - loss: 0.0573 - categorical_accuracy: 0.5623 - val_loss: 0.0463 - val_categorical_accuracy: 0.6863\n",
      "Epoch 3/40\n",
      "61/61 [==============================] - 2s 38ms/step - loss: 0.0386 - categorical_accuracy: 0.7074 - val_loss: 0.0356 - val_categorical_accuracy: 0.7492\n",
      "Epoch 4/40\n",
      "61/61 [==============================] - 2s 39ms/step - loss: 0.0271 - categorical_accuracy: 0.7827 - val_loss: 0.0292 - val_categorical_accuracy: 0.7861\n",
      "Epoch 5/40\n",
      "61/61 [==============================] - 2s 40ms/step - loss: 0.0198 - categorical_accuracy: 0.8289 - val_loss: 0.0261 - val_categorical_accuracy: 0.8092\n",
      "Epoch 6/40\n",
      "61/61 [==============================] - 5s 80ms/step - loss: 0.0148 - categorical_accuracy: 0.8523 - val_loss: 0.0240 - val_categorical_accuracy: 0.8165\n",
      "Epoch 7/40\n",
      "61/61 [==============================] - 5s 77ms/step - loss: 0.0114 - categorical_accuracy: 0.8728 - val_loss: 0.0229 - val_categorical_accuracy: 0.8336\n",
      "Epoch 8/40\n",
      "61/61 [==============================] - 2s 38ms/step - loss: 0.0089 - categorical_accuracy: 0.8831 - val_loss: 0.0234 - val_categorical_accuracy: 0.8413\n",
      "Epoch 9/40\n",
      "61/61 [==============================] - 6s 99ms/step - loss: 0.0071 - categorical_accuracy: 0.8894 - val_loss: 0.0226 - val_categorical_accuracy: 0.8390\n",
      "Epoch 10/40\n",
      "61/61 [==============================] - 2s 36ms/step - loss: 0.0057 - categorical_accuracy: 0.8945 - val_loss: 0.0230 - val_categorical_accuracy: 0.8510\n",
      "Epoch 11/40\n",
      "61/61 [==============================] - 3s 41ms/step - loss: 0.0048 - categorical_accuracy: 0.8999 - val_loss: 0.0228 - val_categorical_accuracy: 0.8504\n",
      "Epoch 12/40\n",
      "61/61 [==============================] - 2s 36ms/step - loss: 0.0040 - categorical_accuracy: 0.9022 - val_loss: 0.0229 - val_categorical_accuracy: 0.8547\n",
      "Epoch 13/40\n",
      "61/61 [==============================] - 2s 35ms/step - loss: 0.0035 - categorical_accuracy: 0.9052 - val_loss: 0.0247 - val_categorical_accuracy: 0.8527\n",
      "Epoch 14/40\n",
      "61/61 [==============================] - 2s 36ms/step - loss: 0.0031 - categorical_accuracy: 0.9056 - val_loss: 0.0246 - val_categorical_accuracy: 0.8550\n",
      "Epoch 15/40\n",
      "61/61 [==============================] - 2s 37ms/step - loss: 0.0028 - categorical_accuracy: 0.9039 - val_loss: 0.0246 - val_categorical_accuracy: 0.8577\n",
      "Epoch 16/40\n",
      "61/61 [==============================] - 2s 36ms/step - loss: 0.0025 - categorical_accuracy: 0.9078 - val_loss: 0.0246 - val_categorical_accuracy: 0.8607\n",
      "Epoch 17/40\n",
      "61/61 [==============================] - 2s 36ms/step - loss: 0.0022 - categorical_accuracy: 0.9026 - val_loss: 0.0250 - val_categorical_accuracy: 0.8570\n",
      "Epoch 18/40\n",
      "61/61 [==============================] - 2s 36ms/step - loss: 0.0020 - categorical_accuracy: 0.9042 - val_loss: 0.0259 - val_categorical_accuracy: 0.8574\n",
      "Epoch 19/40\n",
      "61/61 [==============================] - 2s 36ms/step - loss: 0.0020 - categorical_accuracy: 0.9069 - val_loss: 0.0262 - val_categorical_accuracy: 0.8624\n",
      "Epoch 20/40\n",
      "61/61 [==============================] - 2s 37ms/step - loss: 0.0018 - categorical_accuracy: 0.9051 - val_loss: 0.0260 - val_categorical_accuracy: 0.8617\n",
      "Epoch 21/40\n",
      "61/61 [==============================] - 2s 36ms/step - loss: 0.0017 - categorical_accuracy: 0.9082 - val_loss: 0.0262 - val_categorical_accuracy: 0.8614\n",
      "Epoch 22/40\n",
      "61/61 [==============================] - 2s 36ms/step - loss: 0.0016 - categorical_accuracy: 0.9105 - val_loss: 0.0275 - val_categorical_accuracy: 0.8587\n",
      "Epoch 23/40\n",
      "61/61 [==============================] - 2s 37ms/step - loss: 0.0016 - categorical_accuracy: 0.9077 - val_loss: 0.0276 - val_categorical_accuracy: 0.8591\n",
      "Epoch 24/40\n",
      "61/61 [==============================] - 2s 37ms/step - loss: 0.0015 - categorical_accuracy: 0.9064 - val_loss: 0.0279 - val_categorical_accuracy: 0.8564\n",
      "Epoch 25/40\n",
      "61/61 [==============================] - 2s 36ms/step - loss: 0.0015 - categorical_accuracy: 0.9073 - val_loss: 0.0291 - val_categorical_accuracy: 0.8574\n",
      "Epoch 26/40\n",
      "61/61 [==============================] - 2s 36ms/step - loss: 0.0014 - categorical_accuracy: 0.9086 - val_loss: 0.0287 - val_categorical_accuracy: 0.8594\n",
      "Epoch 27/40\n",
      "61/61 [==============================] - 2s 36ms/step - loss: 0.0014 - categorical_accuracy: 0.9068 - val_loss: 0.0290 - val_categorical_accuracy: 0.8591\n",
      "Epoch 28/40\n",
      "61/61 [==============================] - 2s 36ms/step - loss: 0.0013 - categorical_accuracy: 0.9056 - val_loss: 0.0290 - val_categorical_accuracy: 0.8601\n",
      "Epoch 29/40\n",
      "61/61 [==============================] - 2s 37ms/step - loss: 0.0015 - categorical_accuracy: 0.9089 - val_loss: 0.0296 - val_categorical_accuracy: 0.8611\n",
      "Epoch 30/40\n",
      "61/61 [==============================] - 2s 36ms/step - loss: 0.0013 - categorical_accuracy: 0.9076 - val_loss: 0.0295 - val_categorical_accuracy: 0.8607\n",
      "Epoch 31/40\n",
      "61/61 [==============================] - 2s 39ms/step - loss: 0.0012 - categorical_accuracy: 0.9065 - val_loss: 0.0293 - val_categorical_accuracy: 0.8617\n",
      "Epoch 32/40\n",
      "61/61 [==============================] - 2s 39ms/step - loss: 0.0012 - categorical_accuracy: 0.9105 - val_loss: 0.0303 - val_categorical_accuracy: 0.8614\n",
      "Epoch 33/40\n",
      "61/61 [==============================] - 2s 37ms/step - loss: 0.0012 - categorical_accuracy: 0.9057 - val_loss: 0.0316 - val_categorical_accuracy: 0.8537\n",
      "Epoch 34/40\n",
      "61/61 [==============================] - 3s 43ms/step - loss: 0.0012 - categorical_accuracy: 0.9065 - val_loss: 0.0311 - val_categorical_accuracy: 0.8664\n",
      "Epoch 35/40\n",
      "61/61 [==============================] - 3s 47ms/step - loss: 0.0012 - categorical_accuracy: 0.9108 - val_loss: 0.0302 - val_categorical_accuracy: 0.8611\n",
      "Epoch 36/40\n",
      "61/61 [==============================] - 2s 37ms/step - loss: 0.0012 - categorical_accuracy: 0.9061 - val_loss: 0.0307 - val_categorical_accuracy: 0.8647\n",
      "Epoch 37/40\n",
      "61/61 [==============================] - 2s 39ms/step - loss: 0.0011 - categorical_accuracy: 0.9091 - val_loss: 0.0306 - val_categorical_accuracy: 0.8621\n",
      "Epoch 38/40\n",
      "61/61 [==============================] - 2s 36ms/step - loss: 0.0011 - categorical_accuracy: 0.9060 - val_loss: 0.0313 - val_categorical_accuracy: 0.8624\n",
      "Epoch 39/40\n",
      "61/61 [==============================] - 2s 36ms/step - loss: 0.0011 - categorical_accuracy: 0.9114 - val_loss: 0.0326 - val_categorical_accuracy: 0.8591\n",
      "Epoch 40/40\n",
      "61/61 [==============================] - 2s 36ms/step - loss: 0.0012 - categorical_accuracy: 0.9050 - val_loss: 0.0321 - val_categorical_accuracy: 0.8604\n"
     ]
    }
   ],
   "source": [
    "import scipy\n",
    "from sklearn.preprocessing import MultiLabelBinarizer\n",
    "mlb = MultiLabelBinarizer()\n",
    "train_labels = mlb.fit_transform([ma_reuters.categories(doc_id) for doc_id in train_docs_id])\n",
    "test_labels = mlb.transform([ma_reuters.categories(doc_id) for doc_id in test_docs_id])\n",
    "\n",
    "batch_size = 128 # バッチサイズ(128)\n",
    "epochs = 40 # エポック(40)\n",
    "\n",
    "fpath = 'mlp-weights.{epoch:02d}-{loss:.4f}-{val_loss:.4f}.hdf5'\n",
    "callbacks = [\n",
    "    keras.callbacks.ModelCheckpoint(fpath, monitor='val_loss', save_best_only=True),\n",
    "]\n",
    "\n",
    "sorted_vectorised_train_documents = vectorised_train_documents.sorted_indices()\n",
    "sorted_vectorised_test_documents = vectorised_test_documents.sorted_indices()\n",
    "\n",
    "history = model.fit( \n",
    "    x=sorted_vectorised_train_documents,\n",
    "    y=train_labels, \n",
    "    batch_size=batch_size, \n",
    "    epochs=epochs, \n",
    "    verbose=1, \n",
    "    callbacks=callbacks,\n",
    "    validation_data=(sorted_vectorised_test_documents, test_labels))"
   ]
  },
  {
   "cell_type": "markdown",
   "metadata": {},
   "source": [
    "# 学習結果の評価"
   ]
  },
  {
   "cell_type": "markdown",
   "metadata": {},
   "source": [
    "## 訓練したモデルによる訓練データとテストデータの予測"
   ]
  },
  {
   "cell_type": "code",
   "execution_count": 18,
   "metadata": {},
   "outputs": [
    {
     "data": {
      "image/png": "[encoded data removed]",
      "text/plain": [
       "<Figure size 1008x720 with 1 Axes>"
      ]
     },
     "metadata": {
      "needs_background": "light"
     },
     "output_type": "display_data"
    }
   ],
   "source": [
    "import matplotlib.pyplot as plt\n",
    "import matplotlib.patheffects as path_effects\n",
    "\n",
    "plt.figure(figsize=(14,10))\n",
    "\n",
    "plt.plot(history.history['categorical_accuracy'], \n",
    "         color='b', \n",
    "         linestyle='-', \n",
    "         linewidth=3, \n",
    "         path_effects=[path_effects.SimpleLineShadow(),\n",
    "                       path_effects.Normal()])\n",
    "plt.plot(history.history['val_categorical_accuracy'], \n",
    "         color='r', \n",
    "         linestyle='--',\n",
    "         linewidth=3,\n",
    "         path_effects=[path_effects.SimpleLineShadow(),\n",
    "                       path_effects.Normal()])\n",
    "\n",
    "plt.tick_params(labelsize=18)\n",
    "\n",
    "plt.title('エポック-精度グラフ（Reuters MLP）',fontsize=30)\n",
    "plt.ylabel('精度',fontsize=25)\n",
    "plt.xlabel('エポック',fontsize=25)\n",
    "plt.legend(['訓練(MLP)', 'テスト(MLP)'], loc='best', fontsize=25)\n",
    "\n",
    "plt.show()"
   ]
  },
  {
   "cell_type": "markdown",
   "metadata": {},
   "source": [
    "## SVMとの比較"
   ]
  },
  {
   "cell_type": "code",
   "execution_count": 31,
   "metadata": {},
   "outputs": [
    {
     "name": "stdout",
     "output_type": "stream",
     "text": [
      "SVMによる訓練データの予測精度：0.9782185919875535\n",
      "SVMによるテストデータの予測精度：0.8205557415467024\n"
     ]
    }
   ],
   "source": [
    "from sklearn.multiclass import OneVsRestClassifier\n",
    "from sklearn.svm import LinearSVC\n",
    "from sklearn.metrics import accuracy_score\n",
    "# マルチクラス　マルチラベル分類器で訓練＋予測\n",
    "OVR_classifier = OneVsRestClassifier(LinearSVC(random_state=41)) \n",
    "OVR_classifier.fit(vectorised_train_documents, train_labels)\n",
    "train_predictions = OVR_classifier.predict(vectorised_train_documents)\n",
    "test_predictions = OVR_classifier.predict(vectorised_test_documents)\n",
    "\n",
    "print(f'SVMによる訓練データの予測精度：{accuracy_score(train_labels, train_predictions)}')\n",
    "print(f'SVMによるテストデータの予測精度：{accuracy_score(test_labels, test_predictions)}')"
   ]
  },
  {
   "cell_type": "markdown",
   "metadata": {},
   "source": [
    "## 結果\n",
    "MLPのテストデータに対する精度(accuracy)は40エポックの学習後に86%となった。  \n",
    "一方、SVMのテストデータに対する精度(accuracy)は82%であった。  \n",
    "よって、今回の結果では、MLPによる予測の方が優れていた。"
   ]
  }
 ],
 "metadata": {
  "kernelspec": {
   "display_name": "Python 3",
   "language": "python",
   "name": "python3"
  },
  "language_info": {
   "codemirror_mode": {
    "name": "ipython",
    "version": 3
   },
   "file_extension": ".py",
   "mimetype": "text/x-python",
   "name": "python",
   "nbconvert_exporter": "python",
   "pygments_lexer": "ipython3",
   "version": "3.8.3"
  }
 },
 "nbformat": 4,
 "nbformat_minor": 4
}
