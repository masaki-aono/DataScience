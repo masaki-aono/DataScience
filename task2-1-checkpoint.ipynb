{
 "cells": [
  {
   "cell_type": "code",
   "execution_count": 1,
   "metadata": {},
   "outputs": [],
   "source": [
    "# Loading the subset of Reuters news by NLTK"
   ]
  },
  {
   "cell_type": "code",
   "execution_count": 2,
   "metadata": {},
   "outputs": [
    {
     "name": "stdout",
     "output_type": "stream",
     "text": [
      "10700 total articles\n",
      "7713 training data\n",
      "2987 testing data\n",
      "55  categories\n",
      "['acq', 'alum', 'barley', 'bop', 'carcass', 'cocoa', 'coffee', 'copper', 'corn', 'cotton', 'cpi', 'crude', 'dlr', 'earn', 'fuel', 'gas', 'gnp', 'gold', 'grain', 'hog', 'housing', 'interest', 'ipi', 'iron-steel', 'jobs', 'lead', 'livestock', 'meal-feed', 'money-fx', 'money-supply', 'nat-gas', 'oilseed', 'orange', 'palm-oil', 'pet-chem', 'rapeseed', 'reserves', 'retail', 'rice', 'rubber', 'ship', 'silver', 'sorghum', 'soy-meal', 'soy-oil', 'soybean', 'strategic-metal', 'sugar', 'tin', 'trade', 'veg-oil', 'wheat', 'wpi', 'yen', 'zinc']\n"
     ]
    }
   ],
   "source": [
    "from nltk.corpus.util import LazyCorpusLoader\n",
    "from nltk.corpus.reader import *\n",
    "\n",
    "# Loading the corpus\n",
    "ma_reuters = LazyCorpusLoader(\n",
    "    'ma_reuters', CategorizedPlaintextCorpusReader, '(training|test).*', cat_file='cats.txt', encoding='ISO-8859-2')\n",
    "\n",
    "# Load MA_Reuters\n",
    "documents = ma_reuters.fileids()\n",
    "print (str(len(documents)) + \" total articles\")\n",
    "# extracting training and testing data (document ID)\n",
    "train_docs_id = list(filter(lambda doc: doc.startswith(\"train\"), documents))\n",
    "test_docs_id = list(filter(lambda doc: doc.startswith(\"test\"), documents))\n",
    "print (str(len(train_docs_id)) + \" training data\")\n",
    "print (str(len(test_docs_id)) + \" testing data\")\n",
    "# Training and testing data\n",
    "train_docs = [ma_reuters.raw(doc_id) for doc_id in train_docs_id]\n",
    "test_docs = [ma_reuters.raw(doc_id) for doc_id in test_docs_id]\n",
    " \n",
    "# print the total number of categories\n",
    "categories = ma_reuters.categories()\n",
    "num_categories = len(categories)\n",
    "print (num_categories, \" categories\")\n",
    "print (categories)"
   ]
  },
  {
   "cell_type": "code",
   "execution_count": 3,
   "metadata": {},
   "outputs": [
    {
     "name": "stdout",
     "output_type": "stream",
     "text": [
      "THAI ZINC EXPORTS FALL IN MARCH\n",
      "  Thai zinc ingot exports fell to 882\n",
      "  tonnes in March from 1,764 in February and 3,008 in March 1986,\n",
      "  the Mineral Resources Department said.\n",
      "      A spokesman for Padaeng Industry Co Ltd, the country's sole\n",
      "  exporter, attributed the decline to the company's lower stocks,\n",
      "  which averaged 5,000 tonnes in the first quarter against 16,000\n",
      "  tonnes in late 1985 when it began exporting.\n",
      "      The department said major buyers included China, Japan, the\n",
      "  Philippines, South Korea, Singapore and Taiwan.\n",
      "      Thailand exported 4,842 tonnes of zinc ingots during the\n",
      "  first quarter, down from 14,937 a year ago.\n",
      "  \n",
      "\n",
      "\n"
     ]
    }
   ],
   "source": [
    "# raw document example（'coffee category')\n",
    "# Documents in a category\n",
    "category_docs = ma_reuters.fileids(\"zinc\");\n",
    "document_id = category_docs[0] # The first document\n",
    "# print the inside document\n",
    "print (ma_reuters.raw(document_id))"
   ]
  },
  {
   "cell_type": "code",
   "execution_count": 4,
   "metadata": {},
   "outputs": [
    {
     "name": "stdout",
     "output_type": "stream",
     "text": [
      "converted to TF-IF model\n",
      "training document dimension ： (7713, 26979)\n",
      "testing document dimension： (2987, 26979)\n"
     ]
    }
   ],
   "source": [
    "from nltk import word_tokenize\n",
    "import re # regular expression\n",
    " \n",
    "def tokenize(text): # returning tokens\n",
    "    min_length = 3\n",
    "    words = map(lambda word: word.lower(), word_tokenize(text))\n",
    "\n",
    "    p = re.compile('[a-zA-Z]+')\n",
    "    filtered_tokens = list(filter (lambda token: p.match(token) and len(token) >= min_length, words))\n",
    "    return filtered_tokens\n",
    "\n",
    "from sklearn.feature_extraction.text import TfidfVectorizer\n",
    "\n",
    "# TF-IDF vectorizer\n",
    "vectorizer = TfidfVectorizer(stop_words='english', tokenizer=tokenize)\n",
    "# fit_transform\n",
    "vectorised_train_documents = vectorizer.fit_transform(train_docs)\n",
    "# transform\n",
    "vectorised_test_documents = vectorizer.transform(test_docs)\n",
    "print(\"converted to TF-IF model\")\n",
    "print(\"training document dimension ：\",vectorised_train_documents.shape)\n",
    "print(\"testing document dimension：\",vectorised_test_documents.shape)"
   ]
  },
  {
   "cell_type": "code",
   "execution_count": 5,
   "metadata": {},
   "outputs": [
    {
     "name": "stdout",
     "output_type": "stream",
     "text": [
      "Jaccard coef: 0.86\n",
      "Hamming Loss: 0.005\n"
     ]
    }
   ],
   "source": [
    "from sklearn.preprocessing import MultiLabelBinarizer\n",
    "mlb = MultiLabelBinarizer()\n",
    "train_labels = mlb.fit_transform([ma_reuters.categories(doc_id) for doc_id in train_docs_id])\n",
    "test_labels = mlb.transform([ma_reuters.categories(doc_id) for doc_id in test_docs_id])\n",
    "\n",
    "from sklearn.multiclass import OneVsRestClassifier\n",
    "from sklearn.svm import LinearSVC\n",
    "\n",
    "# multi-class, multi-label classification and prediction\n",
    "OVR_classifier = OneVsRestClassifier(LinearSVC(random_state=41)) \n",
    "OVR_classifier.fit(vectorised_train_documents, train_labels)\n",
    "OVR_predictions = OVR_classifier.predict(vectorised_test_documents)\n",
    "\n",
    "import numpy as np\n",
    "# Jaccard coefficient\n",
    "from sklearn.metrics import jaccard_score\n",
    "print (\"Jaccard coef:\",np.round(jaccard_score(test_labels, OVR_predictions, average='samples'),3))\n",
    "\n",
    "# Hamming Loss\n",
    "from sklearn.metrics import hamming_loss\n",
    "print (\"Hamming Loss:\",np.round(hamming_loss(test_labels, OVR_predictions),3))"
   ]
  },
  {
   "cell_type": "code",
   "execution_count": 6,
   "metadata": {},
   "outputs": [
    {
     "name": "stdout",
     "output_type": "stream",
     "text": [
      "acq, 0.94\n",
      "alum, 0.435\n",
      "barley, 0.643\n",
      "bop, 0.625\n",
      "carcass, 0.421\n",
      "cocoa, 0.944\n",
      "coffee, 0.931\n",
      "copper, 0.833\n",
      "corn, 0.724\n",
      "cotton, 0.55\n",
      "cpi, 0.414\n",
      "crude, 0.81\n",
      "dlr, 0.653\n",
      "earn, 0.969\n",
      "fuel, 0.2\n",
      "gas, 0.471\n",
      "gnp, 0.75\n",
      "gold, 0.625\n",
      "grain, 0.836\n",
      "hog, 0.333\n",
      "housing, 0.75\n",
      "interest, 0.621\n",
      "ipi, 0.833\n",
      "iron-steel, 0.556\n",
      "jobs, 0.524\n",
      "lead, 0.0\n",
      "livestock, 0.407\n",
      "meal-feed, 0.316\n",
      "money-fx, 0.651\n",
      "money-supply, 0.703\n",
      "nat-gas, 0.471\n",
      "oilseed, 0.5\n",
      "orange, 0.727\n",
      "palm-oil, 0.6\n",
      "pet-chem, 0.0\n",
      "rapeseed, 0.444\n",
      "reserves, 0.579\n",
      "retail, 0.5\n",
      "rice, 0.36\n",
      "rubber, 0.75\n",
      "ship, 0.66\n",
      "silver, 0.125\n",
      "sorghum, 0.273\n",
      "soy-meal, 0.231\n",
      "soy-oil, 0.0\n",
      "soybean, 0.436\n",
      "strategic-metal, 0.0\n",
      "sugar, 0.757\n",
      "tin, 0.667\n",
      "trade, 0.672\n",
      "veg-oil, 0.421\n",
      "wheat, 0.697\n",
      "wpi, 0.5\n",
      "yen, 0.0\n",
      "zinc, 0.462\n"
     ]
    }
   ],
   "source": [
    "# カテゴリごとのJaccard係数を計算\n",
    "for i in range(55):\n",
    "    print(categories[i]+\",\", np.around(jaccard_score(test_labels[:, i], OVR_predictions[:, i]),3))"
   ]
  },
  {
   "cell_type": "markdown",
   "metadata": {},
   "source": []
  },
  {
   "cell_type": "code",
   "execution_count": 64,
   "metadata": {},
   "outputs": [],
   "source": [
    "import warnings\n",
    "warnings.simplefilter(action='ignore', category=FutureWarning)\n",
    "\n",
    "import tensorflow as tf\n",
    "config = tf.ConfigProto()\n",
    "config.gpu_options.per_process_gpu_memory_fraction = 0.3  \n",
    "config.gpu_options.allow_growth = True\n",
    "session = tf.Session(config=config)\n",
    "\n",
    "# Kerasの定義\n",
    "import tensorflow.keras as keras\n",
    "from tensorflow.keras import backend as K\n",
    "K.set_session(session)"
   ]
  },
  {
   "cell_type": "code",
   "execution_count": 85,
   "metadata": {},
   "outputs": [
    {
     "name": "stdout",
     "output_type": "stream",
     "text": [
      "Model: \"model_6\"\n",
      "_________________________________________________________________\n",
      "Layer (type)                 Output Shape              Param #   \n",
      "=================================================================\n",
      "input_9 (InputLayer)         [(None, 26979)]           0         \n",
      "_________________________________________________________________\n",
      "dense_23 (Dense)             (None, 256)               6906880   \n",
      "_________________________________________________________________\n",
      "dropout_15 (Dropout)         (None, 256)               0         \n",
      "_________________________________________________________________\n",
      "dense_24 (Dense)             (None, 256)               65792     \n",
      "_________________________________________________________________\n",
      "dropout_16 (Dropout)         (None, 256)               0         \n",
      "_________________________________________________________________\n",
      "dense_25 (Dense)             (None, 55)                14135     \n",
      "=================================================================\n",
      "Total params: 6,986,807\n",
      "Trainable params: 6,986,807\n",
      "Non-trainable params: 0\n",
      "_________________________________________________________________\n"
     ]
    }
   ],
   "source": [
    "from tensorflow.keras.layers import Input, Dense, Dropout \n",
    "from tensorflow.keras.optimizers import RMSprop \n",
    "BoW_dimension = vectorised_train_documents.shape[1]\n",
    "NUM_CLASSES = 55 # カテゴリー数\n",
    "\n",
    "inputs = Input(shape=(BoW_dimension,)) # 入力データ1個はBoW次元が何個か\n",
    "x = Dense(256, activation='elu')(inputs) # 第一全結合層の出力は512次元\n",
    "x = Dropout(0.3)(x) # ドロップアウトは30%（過学習の回避）\n",
    "x = Dense(256, activation='elu')(x) # 第二全結合層の出力は512次元\n",
    "x = Dropout(0.3)(x) # ドロップアウトは30%（過学習の回避）\n",
    "outputs = Dense(NUM_CLASSES, activation='relu')(x) # 最終層の出力は10値\n",
    "model = keras.Model(inputs=[inputs], outputs=[outputs]) # モデル生成\n",
    "\n",
    "model.summary() # ニューラルネットのパラメータ概要表示\n",
    "\n",
    "model.compile( # モデルのコンパイル\n",
    "    loss='binary_crossentropy',#損失関数はクロスエントロピー\n",
    "    optimizer='adam', # 最適化関数はAdam\n",
    "    metrics=['categorical_accuracy']) # 測定はcategorical_accuracy"
   ]
  },
  {
   "cell_type": "code",
   "execution_count": 86,
   "metadata": {},
   "outputs": [
    {
     "name": "stdout",
     "output_type": "stream",
     "text": [
      "Train on 7713 samples, validate on 2987 samples\n",
      "Epoch 1/30\n",
      "7713/7713 [==============================] - 11s 1ms/sample - loss: 0.0739 - categorical_accuracy: 0.6556 - val_loss: 0.0500 - val_categorical_accuracy: 0.7824\n",
      "Epoch 2/30\n",
      "7713/7713 [==============================] - 9s 1ms/sample - loss: 0.0348 - categorical_accuracy: 0.8311 - val_loss: 0.0403 - val_categorical_accuracy: 0.7978\n",
      "Epoch 3/30\n",
      "7713/7713 [==============================] - 9s 1ms/sample - loss: 0.0234 - categorical_accuracy: 0.8627 - val_loss: 0.0382 - val_categorical_accuracy: 0.8088\n",
      "Epoch 4/30\n",
      "7713/7713 [==============================] - 9s 1ms/sample - loss: 0.0191 - categorical_accuracy: 0.8702 - val_loss: 0.0401 - val_categorical_accuracy: 0.8065\n",
      "Epoch 5/30\n",
      "7713/7713 [==============================] - 9s 1ms/sample - loss: 0.0164 - categorical_accuracy: 0.8794 - val_loss: 0.0410 - val_categorical_accuracy: 0.8249\n",
      "Epoch 6/30\n",
      "7713/7713 [==============================] - 9s 1ms/sample - loss: 0.0141 - categorical_accuracy: 0.8812 - val_loss: 0.0426 - val_categorical_accuracy: 0.8273\n",
      "Epoch 7/30\n",
      "7713/7713 [==============================] - 9s 1ms/sample - loss: 0.0125 - categorical_accuracy: 0.8863 - val_loss: 0.0416 - val_categorical_accuracy: 0.8323\n",
      "Epoch 8/30\n",
      "7713/7713 [==============================] - 9s 1ms/sample - loss: 0.0108 - categorical_accuracy: 0.8875 - val_loss: 0.0430 - val_categorical_accuracy: 0.8390\n",
      "Epoch 9/30\n",
      "7713/7713 [==============================] - 9s 1ms/sample - loss: 0.0098 - categorical_accuracy: 0.8904 - val_loss: 0.0440 - val_categorical_accuracy: 0.8423\n",
      "Epoch 10/30\n",
      "7713/7713 [==============================] - 9s 1ms/sample - loss: 0.0093 - categorical_accuracy: 0.8886 - val_loss: 0.0451 - val_categorical_accuracy: 0.8430\n",
      "Epoch 11/30\n",
      "7713/7713 [==============================] - 9s 1ms/sample - loss: 0.0085 - categorical_accuracy: 0.8941 - val_loss: 0.0475 - val_categorical_accuracy: 0.8406\n",
      "Epoch 12/30\n",
      "7713/7713 [==============================] - 9s 1ms/sample - loss: 0.0081 - categorical_accuracy: 0.8923 - val_loss: 0.0481 - val_categorical_accuracy: 0.8440\n",
      "Epoch 13/30\n",
      "7713/7713 [==============================] - 9s 1ms/sample - loss: 0.0080 - categorical_accuracy: 0.8911 - val_loss: 0.0507 - val_categorical_accuracy: 0.8366\n",
      "Epoch 14/30\n",
      "7713/7713 [==============================] - 9s 1ms/sample - loss: 0.0078 - categorical_accuracy: 0.8949 - val_loss: 0.0502 - val_categorical_accuracy: 0.8403\n",
      "Epoch 15/30\n",
      "7713/7713 [==============================] - 9s 1ms/sample - loss: 0.0076 - categorical_accuracy: 0.8932 - val_loss: 0.0516 - val_categorical_accuracy: 0.8366\n",
      "Epoch 16/30\n",
      "7713/7713 [==============================] - 9s 1ms/sample - loss: 0.0090 - categorical_accuracy: 0.8847 - val_loss: 0.0703 - val_categorical_accuracy: 0.7975\n",
      "Epoch 17/30\n",
      "7713/7713 [==============================] - 9s 1ms/sample - loss: 0.0104 - categorical_accuracy: 0.8889 - val_loss: 0.0590 - val_categorical_accuracy: 0.8303\n",
      "Epoch 18/30\n",
      "7713/7713 [==============================] - 9s 1ms/sample - loss: 0.0083 - categorical_accuracy: 0.8965 - val_loss: 0.0567 - val_categorical_accuracy: 0.8380\n",
      "Epoch 19/30\n",
      "7713/7713 [==============================] - 9s 1ms/sample - loss: 0.0075 - categorical_accuracy: 0.9000 - val_loss: 0.0585 - val_categorical_accuracy: 0.8356\n",
      "Epoch 20/30\n",
      "7713/7713 [==============================] - 9s 1ms/sample - loss: 0.0075 - categorical_accuracy: 0.8993 - val_loss: 0.0600 - val_categorical_accuracy: 0.8333\n",
      "Epoch 21/30\n",
      "7713/7713 [==============================] - 9s 1ms/sample - loss: 0.0076 - categorical_accuracy: 0.8965 - val_loss: 0.0580 - val_categorical_accuracy: 0.8363\n",
      "Epoch 22/30\n",
      "7713/7713 [==============================] - 9s 1ms/sample - loss: 0.0073 - categorical_accuracy: 0.9042 - val_loss: 0.0609 - val_categorical_accuracy: 0.8326\n",
      "Epoch 23/30\n",
      "7713/7713 [==============================] - 9s 1ms/sample - loss: 0.0070 - categorical_accuracy: 0.8994 - val_loss: 0.0602 - val_categorical_accuracy: 0.8366\n",
      "Epoch 24/30\n",
      "7713/7713 [==============================] - 9s 1ms/sample - loss: 0.0075 - categorical_accuracy: 0.8961 - val_loss: 0.0637 - val_categorical_accuracy: 0.8336\n",
      "Epoch 25/30\n",
      "7713/7713 [==============================] - 9s 1ms/sample - loss: 0.0078 - categorical_accuracy: 0.8986 - val_loss: 0.0619 - val_categorical_accuracy: 0.8336\n",
      "Epoch 26/30\n",
      "7713/7713 [==============================] - 9s 1ms/sample - loss: 0.0077 - categorical_accuracy: 0.8938 - val_loss: 0.0628 - val_categorical_accuracy: 0.8396\n",
      "Epoch 27/30\n",
      "7713/7713 [==============================] - 9s 1ms/sample - loss: 0.0071 - categorical_accuracy: 0.8972 - val_loss: 0.0631 - val_categorical_accuracy: 0.8376\n",
      "Epoch 28/30\n",
      "7713/7713 [==============================] - 9s 1ms/sample - loss: 0.0072 - categorical_accuracy: 0.8989 - val_loss: 0.0643 - val_categorical_accuracy: 0.8393\n",
      "Epoch 29/30\n",
      "7713/7713 [==============================] - 9s 1ms/sample - loss: 0.0073 - categorical_accuracy: 0.9019 - val_loss: 0.0633 - val_categorical_accuracy: 0.8380\n",
      "Epoch 30/30\n",
      "7713/7713 [==============================] - 9s 1ms/sample - loss: 0.0073 - categorical_accuracy: 0.8999 - val_loss: 0.0625 - val_categorical_accuracy: 0.8356\n"
     ]
    }
   ],
   "source": [
    "batch_size = 128 # バッチサイズ(128)}\n",
    "epochs = 30 # エポック(50)\n",
    "\n",
    "fpath = 'mlp-weights.{epoch:02d}-{loss:.4f}-{val_loss:.4f}.hdf5'\n",
    "callbacks = [\n",
    "    keras.callbacks.ModelCheckpoint(fpath, monitor='val_loss', save_best_only=True),\n",
    "]\n",
    "\n",
    "history = model.fit( \n",
    "    vectorised_train_documents, train_labels, \n",
    "    batch_size=batch_size, \n",
    "    epochs=epochs, \n",
    "    verbose=1, \n",
    "    callbacks=callbacks,\n",
    "    validation_data=(vectorised_test_documents, test_labels))"
   ]
  },
  {
   "cell_type": "code",
   "execution_count": 96,
   "metadata": {},
   "outputs": [],
   "source": [
    "%matplotlib inline\n",
    "import matplotlib.pyplot as plt\n",
    "import matplotlib.font_manager as fm\n",
    "import matplotlib.patheffects as path_effects\n",
    "\n",
    "# 日本語fontの設定\n",
    "fp = fm.FontProperties(fname=r'C:\\WINDOWS\\Fonts\\msgothic.ttc', size=16)"
   ]
  },
  {
   "cell_type": "code",
   "execution_count": 97,
   "metadata": {},
   "outputs": [
    {
     "data": {
      "image/png": "[encoded data removed]",
      "text/plain": [
       "<Figure size 432x288 with 1 Axes>"
      ]
     },
     "metadata": {
      "needs_background": "light"
     },
     "output_type": "display_data"
    }
   ],
   "source": [
    "plt.plot(history.history['categorical_accuracy'], \n",
    "         color='b', \n",
    "         linestyle='-', \n",
    "         linewidth=3, \n",
    "         path_effects=[path_effects.SimpleLineShadow(),\n",
    "                       path_effects.Normal()])\n",
    "plt.plot(history.history['val_categorical_accuracy'], \n",
    "         color='r', \n",
    "         linestyle='--',\n",
    "         linewidth=3,\n",
    "         path_effects=[path_effects.SimpleLineShadow(),\n",
    "                       path_effects.Normal()])\n",
    "\n",
    "plt.tick_params(labelsize=18)\n",
    "\n",
    "plt.title('エポック-精度グラフ（Reuters MLP）',fontsize=30,font_properties=fp)\n",
    "plt.ylabel('精度',fontsize=25, font_properties=fp)\n",
    "plt.xlabel('エポック',fontsize=25, font_properties=fp)\n",
    "plt.legend(['訓練(MLP)', 'テスト(MLP)'], loc='best', fontsize=25, prop=fp)\n",
    "plt.savefig('EpochAcc-Reuters-MLP-2020-8-1.png', format='png', dpi=200, bbox_inches=\"tight\")"
   ]
  },
  {
   "cell_type": "code",
   "execution_count": 98,
   "metadata": {},
   "outputs": [
    {
     "data": {
      "image/png": "[encoded data removed]",
      "text/plain": [
       "<Figure size 432x288 with 1 Axes>"
      ]
     },
     "metadata": {
      "needs_background": "light"
     },
     "output_type": "display_data"
    }
   ],
   "source": [
    "plt.plot(history.history['loss'], \n",
    "         color='b', \n",
    "         linestyle='-', \n",
    "         linewidth=3, \n",
    "         path_effects=[path_effects.SimpleLineShadow(),\n",
    "                       path_effects.Normal()])\n",
    "plt.plot(history.history['val_loss'], \n",
    "         color='r', \n",
    "         linestyle='--',\n",
    "         linewidth=3,\n",
    "         path_effects=[path_effects.SimpleLineShadow(),\n",
    "                       path_effects.Normal()])\n",
    "\n",
    "plt.tick_params(labelsize=18)\n",
    "\n",
    "plt.title('エポック-損失グラフ（Reuters MLP）',fontsize=30,font_properties=fp)\n",
    "plt.ylabel('損失',fontsize=25, font_properties=fp)\n",
    "plt.xlabel('エポック',fontsize=25, font_properties=fp)\n",
    "plt.legend(['訓練(MLP)', 'テスト(MLP)'], loc='best', fontsize=25, prop=fp)\n",
    "plt.savefig('EpochAcc-Reuters-MLP-2020-8-2.png', format='png', dpi=200, bbox_inches=\"tight\")\n",
    "\n",
    "plt.show()"
   ]
  },
  {
   "cell_type": "code",
   "execution_count": 66,
   "metadata": {},
   "outputs": [
    {
     "name": "stdout",
     "output_type": "stream",
     "text": [
      "(7713, 26979)\n"
     ]
    }
   ],
   "source": []
  },
  {
   "cell_type": "code",
   "execution_count": null,
   "metadata": {},
   "outputs": [],
   "source": []
  }
 ],
 "metadata": {
  "kernelspec": {
   "display_name": "Python 3",
   "language": "python",
   "name": "python3"
  },
  "language_info": {
   "codemirror_mode": {
    "name": "ipython",
    "version": 3
   },
   "file_extension": ".py",
   "mimetype": "text/x-python",
   "name": "python",
   "nbconvert_exporter": "python",
   "pygments_lexer": "ipython3",
   "version": "3.7.3"
  }
 },
 "nbformat": 4,
 "nbformat_minor": 4
}
